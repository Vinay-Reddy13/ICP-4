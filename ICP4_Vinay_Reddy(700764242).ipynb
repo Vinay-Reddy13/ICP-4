{
  "nbformat": 4,
  "nbformat_minor": 0,
  "metadata": {
    "colab": {
      "provenance": []
    },
    "kernelspec": {
      "name": "python3",
      "display_name": "Python 3"
    },
    "language_info": {
      "name": "python"
    }
  },
  "cells": [
    {
      "cell_type": "code",
      "execution_count": 1,
      "metadata": {
        "colab": {
          "base_uri": "https://localhost:8080/"
        },
        "id": "xiJsDMRPLFYD",
        "outputId": "d2facbac-6812-4bc4-b1c9-be41e237c066"
      },
      "outputs": [
        {
          "output_type": "stream",
          "name": "stdout",
          "text": [
            "   ID     Value Category\n",
            "0   1  0.954877        D\n",
            "1   2  0.464768        C\n",
            "2   3  0.603737        A\n",
            "3   4  0.642292        A\n",
            "4   5  0.601374        A\n"
          ]
        }
      ],
      "source": [
        "# 1. Creating a DataFrame from a given dictionary\n",
        "\n",
        "import pandas as pd\n",
        "import numpy as np\n",
        "\n",
        "# Create a dictionary with 1 million entries\n",
        "data = {\n",
        "    'ID': np.arange(1, 1000001),  # IDs from 1 to 1,000,000\n",
        "    'Value': np.random.rand(1000000),  # 1 million random float values between 0 and 1\n",
        "    'Category': np.random.choice(['A', 'B', 'C', 'D'], size=1000000)  # Randomly chosen categories\n",
        "}\n",
        "\n",
        "# Convert to DataFrame\n",
        "df = pd.DataFrame(data)\n",
        "\n",
        "\n",
        "print(df.head())\n"
      ]
    },
    {
      "cell_type": "code",
      "source": [
        "# 2. Output first 10 rows\n",
        "\n",
        "print(df.head(10))\n"
      ],
      "metadata": {
        "colab": {
          "base_uri": "https://localhost:8080/"
        },
        "id": "mlaewSxNLXVE",
        "outputId": "1dd0d9a3-e168-414e-ee9d-ccce83195fee"
      },
      "execution_count": 2,
      "outputs": [
        {
          "output_type": "stream",
          "name": "stdout",
          "text": [
            "   ID     Value Category\n",
            "0   1  0.954877        D\n",
            "1   2  0.464768        C\n",
            "2   3  0.603737        A\n",
            "3   4  0.642292        A\n",
            "4   5  0.601374        A\n",
            "5   6  0.981742        D\n",
            "6   7  0.640812        C\n",
            "7   8  0.174908        B\n",
            "8   9  0.788783        C\n",
            "9  10  0.706334        C\n"
          ]
        }
      ]
    },
    {
      "cell_type": "code",
      "source": [
        "# 3. Access a column “Value”\n",
        "\n",
        "\n",
        "print(df['Value'].head())\n"
      ],
      "metadata": {
        "colab": {
          "base_uri": "https://localhost:8080/"
        },
        "id": "iiGRaIiULmD0",
        "outputId": "adf91913-37f0-46ac-d171-1ca452a2b8b6"
      },
      "execution_count": 3,
      "outputs": [
        {
          "output_type": "stream",
          "name": "stdout",
          "text": [
            "0    0.954877\n",
            "1    0.464768\n",
            "2    0.603737\n",
            "3    0.642292\n",
            "4    0.601374\n",
            "Name: Value, dtype: float64\n"
          ]
        }
      ]
    },
    {
      "cell_type": "code",
      "source": [
        "# 4. Modify columns in the DataFrame with names (ID number, Random value, Choice) and show outputfor first five rows.\n",
        "\n",
        "\n",
        "df.columns = ['ID number', 'Random value', 'Choice']\n",
        "\n",
        "print(df.head())\n"
      ],
      "metadata": {
        "colab": {
          "base_uri": "https://localhost:8080/"
        },
        "id": "eIb3a5mwMBOk",
        "outputId": "f2660ea3-9173-471a-89c6-f305554295bf"
      },
      "execution_count": 4,
      "outputs": [
        {
          "output_type": "stream",
          "name": "stdout",
          "text": [
            "   ID number  Random value Choice\n",
            "0          1      0.954877      D\n",
            "1          2      0.464768      C\n",
            "2          3      0.603737      A\n",
            "3          4      0.642292      A\n",
            "4          5      0.601374      A\n"
          ]
        }
      ]
    },
    {
      "cell_type": "code",
      "source": [
        "# 5. Run the below given code by removing bugs and errors\n",
        "\n",
        "import pandas as pd\n",
        "\n",
        "# Display all rows if needed\n",
        "pd.set_option('display.max_rows', None)\n",
        "# pd.set_option('display.max_columns', None)\n",
        "\n",
        "# Create the DataFrame\n",
        "student_data = pd.DataFrame({\n",
        "    'school_code': ['s001', 's002', 's003', 's001', 's002', 's004'],\n",
        "    'class': ['V', 'V', 'VI', 'VI', 'V', 'VI'],\n",
        "    'name': ['Alberto Franco', 'Gino Mcneill', 'Ryan Parkes', 'Eesha Hinton', 'Gino Mcneill', 'David Parkes'],\n",
        "    'date_of_birth': ['15/05/2002', '17/05/2002', '16/02/1999', '25/09/1998', '11/05/2002', '15/09/1997'],\n",
        "    'age': [12, 12, 13, 13, 14, 12],\n",
        "    'height': [173, 192, 186, 167, 151, 159],\n",
        "    'weight': [35, 32, 33, 30, 31, 32]\n",
        "}, index=['S1', 'S2', 'S3', 'S4', 'S5', 'S6'])\n",
        "\n",
        "\n",
        "print(\"Original DataFrame:\")\n",
        "print(student_data)\n",
        "\n",
        "\n",
        "print('\\nSplit the said data on school_code, class wise: ')\n",
        "result = student_data.groupby(['school_code', 'class'])\n",
        "\n",
        "\n",
        "for name, group in result:\n",
        "    print(\"\\nGroup:\")\n",
        "    print(name)\n",
        "    print(group)\n"
      ],
      "metadata": {
        "colab": {
          "base_uri": "https://localhost:8080/"
        },
        "id": "ax094fWlMjIt",
        "outputId": "ebdd6fe7-2657-4777-d643-bb1d2d4e56e2"
      },
      "execution_count": 5,
      "outputs": [
        {
          "output_type": "stream",
          "name": "stdout",
          "text": [
            "Original DataFrame:\n",
            "   school_code class            name date_of_birth  age  height  weight\n",
            "S1        s001     V  Alberto Franco    15/05/2002   12     173      35\n",
            "S2        s002     V    Gino Mcneill    17/05/2002   12     192      32\n",
            "S3        s003    VI     Ryan Parkes    16/02/1999   13     186      33\n",
            "S4        s001    VI    Eesha Hinton    25/09/1998   13     167      30\n",
            "S5        s002     V    Gino Mcneill    11/05/2002   14     151      31\n",
            "S6        s004    VI    David Parkes    15/09/1997   12     159      32\n",
            "\n",
            "Split the said data on school_code, class wise: \n",
            "\n",
            "Group:\n",
            "('s001', 'V')\n",
            "   school_code class            name date_of_birth  age  height  weight\n",
            "S1        s001     V  Alberto Franco    15/05/2002   12     173      35\n",
            "\n",
            "Group:\n",
            "('s001', 'VI')\n",
            "   school_code class          name date_of_birth  age  height  weight\n",
            "S4        s001    VI  Eesha Hinton    25/09/1998   13     167      30\n",
            "\n",
            "Group:\n",
            "('s002', 'V')\n",
            "   school_code class          name date_of_birth  age  height  weight\n",
            "S2        s002     V  Gino Mcneill    17/05/2002   12     192      32\n",
            "S5        s002     V  Gino Mcneill    11/05/2002   14     151      31\n",
            "\n",
            "Group:\n",
            "('s003', 'VI')\n",
            "   school_code class         name date_of_birth  age  height  weight\n",
            "S3        s003    VI  Ryan Parkes    16/02/1999   13     186      33\n",
            "\n",
            "Group:\n",
            "('s004', 'VI')\n",
            "   school_code class          name date_of_birth  age  height  weight\n",
            "S6        s004    VI  David Parkes    15/09/1997   12     159      32\n"
          ]
        }
      ]
    },
    {
      "cell_type": "code",
      "source": [
        "# 6. Read the provided CSV file ‘data.csv’\n",
        "\n",
        "from google.colab import files\n",
        "\n",
        "\n",
        "uploaded = files.upload()\n",
        "\n",
        "\n",
        "import pandas as pd\n",
        "\n",
        "\n",
        "df = pd.read_csv('data.csv')\n",
        "\n",
        "\n",
        "print(df.head())\n",
        "\n"
      ],
      "metadata": {
        "colab": {
          "base_uri": "https://localhost:8080/",
          "height": 177
        },
        "id": "AQ1jRrAdOYIm",
        "outputId": "1d0cd5db-aad1-4ece-c9c0-5e25efe0967a"
      },
      "execution_count": 10,
      "outputs": [
        {
          "output_type": "display_data",
          "data": {
            "text/plain": [
              "<IPython.core.display.HTML object>"
            ],
            "text/html": [
              "\n",
              "     <input type=\"file\" id=\"files-f14fd118-4fd5-41c0-8b98-73ce44453a10\" name=\"files[]\" multiple disabled\n",
              "        style=\"border:none\" />\n",
              "     <output id=\"result-f14fd118-4fd5-41c0-8b98-73ce44453a10\">\n",
              "      Upload widget is only available when the cell has been executed in the\n",
              "      current browser session. Please rerun this cell to enable.\n",
              "      </output>\n",
              "      <script>// Copyright 2017 Google LLC\n",
              "//\n",
              "// Licensed under the Apache License, Version 2.0 (the \"License\");\n",
              "// you may not use this file except in compliance with the License.\n",
              "// You may obtain a copy of the License at\n",
              "//\n",
              "//      http://www.apache.org/licenses/LICENSE-2.0\n",
              "//\n",
              "// Unless required by applicable law or agreed to in writing, software\n",
              "// distributed under the License is distributed on an \"AS IS\" BASIS,\n",
              "// WITHOUT WARRANTIES OR CONDITIONS OF ANY KIND, either express or implied.\n",
              "// See the License for the specific language governing permissions and\n",
              "// limitations under the License.\n",
              "\n",
              "/**\n",
              " * @fileoverview Helpers for google.colab Python module.\n",
              " */\n",
              "(function(scope) {\n",
              "function span(text, styleAttributes = {}) {\n",
              "  const element = document.createElement('span');\n",
              "  element.textContent = text;\n",
              "  for (const key of Object.keys(styleAttributes)) {\n",
              "    element.style[key] = styleAttributes[key];\n",
              "  }\n",
              "  return element;\n",
              "}\n",
              "\n",
              "// Max number of bytes which will be uploaded at a time.\n",
              "const MAX_PAYLOAD_SIZE = 100 * 1024;\n",
              "\n",
              "function _uploadFiles(inputId, outputId) {\n",
              "  const steps = uploadFilesStep(inputId, outputId);\n",
              "  const outputElement = document.getElementById(outputId);\n",
              "  // Cache steps on the outputElement to make it available for the next call\n",
              "  // to uploadFilesContinue from Python.\n",
              "  outputElement.steps = steps;\n",
              "\n",
              "  return _uploadFilesContinue(outputId);\n",
              "}\n",
              "\n",
              "// This is roughly an async generator (not supported in the browser yet),\n",
              "// where there are multiple asynchronous steps and the Python side is going\n",
              "// to poll for completion of each step.\n",
              "// This uses a Promise to block the python side on completion of each step,\n",
              "// then passes the result of the previous step as the input to the next step.\n",
              "function _uploadFilesContinue(outputId) {\n",
              "  const outputElement = document.getElementById(outputId);\n",
              "  const steps = outputElement.steps;\n",
              "\n",
              "  const next = steps.next(outputElement.lastPromiseValue);\n",
              "  return Promise.resolve(next.value.promise).then((value) => {\n",
              "    // Cache the last promise value to make it available to the next\n",
              "    // step of the generator.\n",
              "    outputElement.lastPromiseValue = value;\n",
              "    return next.value.response;\n",
              "  });\n",
              "}\n",
              "\n",
              "/**\n",
              " * Generator function which is called between each async step of the upload\n",
              " * process.\n",
              " * @param {string} inputId Element ID of the input file picker element.\n",
              " * @param {string} outputId Element ID of the output display.\n",
              " * @return {!Iterable<!Object>} Iterable of next steps.\n",
              " */\n",
              "function* uploadFilesStep(inputId, outputId) {\n",
              "  const inputElement = document.getElementById(inputId);\n",
              "  inputElement.disabled = false;\n",
              "\n",
              "  const outputElement = document.getElementById(outputId);\n",
              "  outputElement.innerHTML = '';\n",
              "\n",
              "  const pickedPromise = new Promise((resolve) => {\n",
              "    inputElement.addEventListener('change', (e) => {\n",
              "      resolve(e.target.files);\n",
              "    });\n",
              "  });\n",
              "\n",
              "  const cancel = document.createElement('button');\n",
              "  inputElement.parentElement.appendChild(cancel);\n",
              "  cancel.textContent = 'Cancel upload';\n",
              "  const cancelPromise = new Promise((resolve) => {\n",
              "    cancel.onclick = () => {\n",
              "      resolve(null);\n",
              "    };\n",
              "  });\n",
              "\n",
              "  // Wait for the user to pick the files.\n",
              "  const files = yield {\n",
              "    promise: Promise.race([pickedPromise, cancelPromise]),\n",
              "    response: {\n",
              "      action: 'starting',\n",
              "    }\n",
              "  };\n",
              "\n",
              "  cancel.remove();\n",
              "\n",
              "  // Disable the input element since further picks are not allowed.\n",
              "  inputElement.disabled = true;\n",
              "\n",
              "  if (!files) {\n",
              "    return {\n",
              "      response: {\n",
              "        action: 'complete',\n",
              "      }\n",
              "    };\n",
              "  }\n",
              "\n",
              "  for (const file of files) {\n",
              "    const li = document.createElement('li');\n",
              "    li.append(span(file.name, {fontWeight: 'bold'}));\n",
              "    li.append(span(\n",
              "        `(${file.type || 'n/a'}) - ${file.size} bytes, ` +\n",
              "        `last modified: ${\n",
              "            file.lastModifiedDate ? file.lastModifiedDate.toLocaleDateString() :\n",
              "                                    'n/a'} - `));\n",
              "    const percent = span('0% done');\n",
              "    li.appendChild(percent);\n",
              "\n",
              "    outputElement.appendChild(li);\n",
              "\n",
              "    const fileDataPromise = new Promise((resolve) => {\n",
              "      const reader = new FileReader();\n",
              "      reader.onload = (e) => {\n",
              "        resolve(e.target.result);\n",
              "      };\n",
              "      reader.readAsArrayBuffer(file);\n",
              "    });\n",
              "    // Wait for the data to be ready.\n",
              "    let fileData = yield {\n",
              "      promise: fileDataPromise,\n",
              "      response: {\n",
              "        action: 'continue',\n",
              "      }\n",
              "    };\n",
              "\n",
              "    // Use a chunked sending to avoid message size limits. See b/62115660.\n",
              "    let position = 0;\n",
              "    do {\n",
              "      const length = Math.min(fileData.byteLength - position, MAX_PAYLOAD_SIZE);\n",
              "      const chunk = new Uint8Array(fileData, position, length);\n",
              "      position += length;\n",
              "\n",
              "      const base64 = btoa(String.fromCharCode.apply(null, chunk));\n",
              "      yield {\n",
              "        response: {\n",
              "          action: 'append',\n",
              "          file: file.name,\n",
              "          data: base64,\n",
              "        },\n",
              "      };\n",
              "\n",
              "      let percentDone = fileData.byteLength === 0 ?\n",
              "          100 :\n",
              "          Math.round((position / fileData.byteLength) * 100);\n",
              "      percent.textContent = `${percentDone}% done`;\n",
              "\n",
              "    } while (position < fileData.byteLength);\n",
              "  }\n",
              "\n",
              "  // All done.\n",
              "  yield {\n",
              "    response: {\n",
              "      action: 'complete',\n",
              "    }\n",
              "  };\n",
              "}\n",
              "\n",
              "scope.google = scope.google || {};\n",
              "scope.google.colab = scope.google.colab || {};\n",
              "scope.google.colab._files = {\n",
              "  _uploadFiles,\n",
              "  _uploadFilesContinue,\n",
              "};\n",
              "})(self);\n",
              "</script> "
            ]
          },
          "metadata": {}
        },
        {
          "output_type": "stream",
          "name": "stdout",
          "text": [
            "Saving data.csv to data (2).csv\n",
            "   Duration  Pulse  Maxpulse  Calories\n",
            "0        60    110       130     409.1\n",
            "1        60    117       145     479.0\n",
            "2        60    103       135     340.0\n",
            "3        45    109       175     282.4\n",
            "4        45    117       148     406.0\n"
          ]
        }
      ]
    },
    {
      "cell_type": "code",
      "source": [
        "# 7. Show the basic statistical description about the data.\n",
        "\n",
        "\n",
        "\n",
        "\n",
        "print(\"Basic Statistical Description:\")\n",
        "print(df.describe())\n"
      ],
      "metadata": {
        "colab": {
          "base_uri": "https://localhost:8080/"
        },
        "id": "ZvtgfeoQQMxn",
        "outputId": "3fc2adb8-abfc-4569-9a93-d949bc955cb7"
      },
      "execution_count": 32,
      "outputs": [
        {
          "output_type": "stream",
          "name": "stdout",
          "text": [
            "Basic Statistical Description:\n",
            "         Duration       Pulse    Maxpulse     Calories\n",
            "count  169.000000  169.000000  169.000000   169.000000\n",
            "mean    63.846154  107.461538  134.047337   375.790244\n",
            "std     42.299949   14.510259   16.450434   262.385991\n",
            "min     15.000000   80.000000  100.000000    50.300000\n",
            "25%     45.000000  100.000000  124.000000   253.300000\n",
            "50%     60.000000  105.000000  131.000000   321.000000\n",
            "75%     60.000000  111.000000  141.000000   384.000000\n",
            "max    300.000000  159.000000  184.000000  1860.400000\n"
          ]
        }
      ]
    },
    {
      "cell_type": "code",
      "source": [
        "# 8. Check if the data has null values.\n",
        "#a. Replace the null values with the mean\n",
        "\n",
        "\n",
        "\n",
        "print(\"Null values in each column:\")\n",
        "print(df.isnull().sum())\n",
        "\n",
        "# Step 3: Replace null values in numeric columns with the column mean\n",
        "df.fillna(df.mean(numeric_only=True), inplace=True)\n",
        "\n",
        "# Step 4: Verify that null values are replaced\n",
        "print(\"\\nAfter replacing nulls with mean:\")\n",
        "print(df.isnull().sum())\n"
      ],
      "metadata": {
        "colab": {
          "base_uri": "https://localhost:8080/"
        },
        "id": "2J6iEiifQZQd",
        "outputId": "dfbbc969-4dfe-4aea-d315-b975ec2def7f"
      },
      "execution_count": 27,
      "outputs": [
        {
          "output_type": "stream",
          "name": "stdout",
          "text": [
            "Null values in each column:\n",
            "Duration    0\n",
            "Pulse       0\n",
            "Maxpulse    0\n",
            "Calories    5\n",
            "dtype: int64\n",
            "\n",
            "After replacing nulls with mean:\n",
            "Duration    0\n",
            "Pulse       0\n",
            "Maxpulse    0\n",
            "Calories    0\n",
            "dtype: int64\n"
          ]
        }
      ]
    },
    {
      "cell_type": "code",
      "source": [
        "# 9.Select at least two columns and aggregate the data using: min, max, count, mean\n",
        "\n",
        "\n",
        "# Step 2: Select two numeric columns (for example: 'Duration' and 'Calories')\n",
        "# Make sure these columns exist in your data\n",
        "selected_columns = df[['Duration', 'Calories']]\n",
        "\n",
        "# Step 3: Aggregate the selected columns\n",
        "aggregated_result = selected_columns.agg(['min', 'max', 'count', 'mean'])\n",
        "\n",
        "# Step 4: Display result\n",
        "print(\"Aggregated Data:\")\n",
        "print(aggregated_result)\n"
      ],
      "metadata": {
        "colab": {
          "base_uri": "https://localhost:8080/"
        },
        "id": "Cust3zcgQmuE",
        "outputId": "24f8b7ef-62af-4805-be4c-398fab551da9"
      },
      "execution_count": 28,
      "outputs": [
        {
          "output_type": "stream",
          "name": "stdout",
          "text": [
            "Aggregated Data:\n",
            "         Duration     Calories\n",
            "min     15.000000    50.300000\n",
            "max    300.000000  1860.400000\n",
            "count  169.000000   169.000000\n",
            "mean    63.846154   375.790244\n"
          ]
        }
      ]
    },
    {
      "cell_type": "code",
      "source": [
        "# 10. Filter the dataframe to select the rows with calories values between 500 and 1000.\n",
        "\n",
        "\n",
        "\n",
        "filtered_df = df[(df['Calories'] >= 500) & (df['Calories'] <= 1000)]\n",
        "\n",
        "print(\"Filtered Data (Calories between 500 and 1000):\")\n",
        "print(filtered_df)\n"
      ],
      "metadata": {
        "colab": {
          "base_uri": "https://localhost:8080/"
        },
        "id": "E8_N3tPdQyNj",
        "outputId": "9e9ad7e1-8801-4447-922b-a868f60a1789"
      },
      "execution_count": 29,
      "outputs": [
        {
          "output_type": "stream",
          "name": "stdout",
          "text": [
            "Filtered Data (Calories between 500 and 1000):\n",
            "     Duration  Pulse  Maxpulse  Calories\n",
            "51         80    123       146     643.1\n",
            "62        160    109       135     853.0\n",
            "65        180     90       130     800.4\n",
            "66        150    105       135     873.4\n",
            "67        150    107       130     816.0\n",
            "72         90    100       127     700.0\n",
            "73        150     97       127     953.2\n",
            "75         90     98       125     563.2\n",
            "78        120    100       130     500.4\n",
            "83        120    100       130     500.0\n",
            "90        180    101       127     600.1\n",
            "99         90     93       124     604.1\n",
            "101        90     90       110     500.0\n",
            "102        90     90       100     500.0\n",
            "103        90     90       100     500.4\n",
            "106       180     90       120     800.3\n",
            "108        90     90       120     500.3\n"
          ]
        }
      ]
    },
    {
      "cell_type": "code",
      "source": [
        "# 11. Filter the dataframe to select the rows with calories values > 500 and pulse < 100\n",
        "\n",
        "filtered_df = df[(df['Calories'] > 500) & (df['Pulse'] < 100)]\n",
        "\n",
        "\n",
        "print(\"Filtered Data (Calories > 500 and Pulse < 100):\")\n",
        "print(filtered_df)\n"
      ],
      "metadata": {
        "colab": {
          "base_uri": "https://localhost:8080/"
        },
        "id": "4rIWQZIYQ-j0",
        "outputId": "6f9de075-ab3a-47b7-aeb8-4b637196b96c"
      },
      "execution_count": 30,
      "outputs": [
        {
          "output_type": "stream",
          "name": "stdout",
          "text": [
            "Filtered Data (Calories > 500 and Pulse < 100):\n",
            "     Duration  Pulse  Maxpulse  Calories\n",
            "65        180     90       130     800.4\n",
            "70        150     97       129    1115.0\n",
            "73        150     97       127     953.2\n",
            "75         90     98       125     563.2\n",
            "99         90     93       124     604.1\n",
            "103        90     90       100     500.4\n",
            "106       180     90       120     800.3\n",
            "108        90     90       120     500.3\n"
          ]
        }
      ]
    },
    {
      "cell_type": "code",
      "source": [
        "# 12. Create a new “df_modified” dataframe that contains all the columns from df except for “Maxpulse”\n",
        "\n",
        "\n",
        "\n",
        "df_modified = df.drop(columns=['Maxpulse'])\n",
        "\n",
        "print(\"Modified DataFrame without 'Maxpulse':\")\n",
        "print(df_modified.head())\n"
      ],
      "metadata": {
        "colab": {
          "base_uri": "https://localhost:8080/"
        },
        "id": "PKDOYp-YRJDG",
        "outputId": "7d9a971e-0a14-4ba9-814b-81bdbf7c51f3"
      },
      "execution_count": 31,
      "outputs": [
        {
          "output_type": "stream",
          "name": "stdout",
          "text": [
            "Modified DataFrame without 'Maxpulse':\n",
            "   Duration  Pulse  Calories\n",
            "0        60    110     409.1\n",
            "1        60    117     479.0\n",
            "2        60    103     340.0\n",
            "3        45    109     282.4\n",
            "4        45    117     406.0\n"
          ]
        }
      ]
    },
    {
      "cell_type": "code",
      "source": [
        "# 13. Delete the “Maxpulse” column from the main df dataframe\n",
        "\n",
        "\n",
        "\n",
        "df.drop(columns=['Maxpulse'], inplace=True)\n",
        "\n",
        "print(\"Updated DataFrame without 'Maxpulse':\")\n",
        "print(df.head())\n"
      ],
      "metadata": {
        "colab": {
          "base_uri": "https://localhost:8080/"
        },
        "id": "KU6sE8bcRSgU",
        "outputId": "4681f5e2-461c-42aa-b4ef-42c606e79cb7"
      },
      "execution_count": 23,
      "outputs": [
        {
          "output_type": "stream",
          "name": "stdout",
          "text": [
            "Updated DataFrame without 'Maxpulse':\n",
            "   Duration  Pulse  Calories\n",
            "0        60    110     409.1\n",
            "1        60    117     479.0\n",
            "2        60    103     340.0\n",
            "3        45    109     282.4\n",
            "4        45    117     406.0\n"
          ]
        }
      ]
    },
    {
      "cell_type": "code",
      "source": [
        "# 14. Convert the datatype of Calories column to int datatype.\n",
        "\n",
        "# Convert to numeric and handle any non-numeric values\n",
        "df['Calories'] = pd.to_numeric(df['Calories'], errors='coerce')\n",
        "\n",
        "# Optionally fill nulls with 0 or mean before converting to int\n",
        "df['Calories'] = df['Calories'].fillna(df['Calories'].mean())\n",
        "\n",
        "# Now convert to int\n",
        "df['Calories'] = df['Calories'].astype(int)\n",
        "\n",
        "print(df.dtypes['Calories'])\n"
      ],
      "metadata": {
        "colab": {
          "base_uri": "https://localhost:8080/"
        },
        "id": "eQK4a3o5RcxB",
        "outputId": "c3fd47f5-289a-473e-a92a-ad4b8fbb203e"
      },
      "execution_count": 39,
      "outputs": [
        {
          "output_type": "stream",
          "name": "stdout",
          "text": [
            "int64\n"
          ]
        }
      ]
    },
    {
      "cell_type": "code",
      "source": [
        "# 15. Using pandas create a scatter plot for the two columns (Duration and Calories).\n",
        "\n",
        "# Step 1: Upload the file\n",
        "from google.colab import files\n",
        "uploaded = files.upload()\n",
        "\n",
        "\n",
        "# Step 2: Import necessary libraries\n",
        "import pandas as pd\n",
        "import matplotlib.pyplot as plt\n",
        "\n",
        "# Step 3: Load the CSV file into a DataFrame\n",
        "df = pd.read_csv('data.csv')  # Make sure the filename matches what you uploaded\n",
        "\n",
        "# Step 4: Display basic statistics\n",
        "print(\"Statistical Summary:\")\n",
        "print(df.describe())\n",
        "\n",
        "# Step 5: Create a scatter plot for Duration vs Calories\n",
        "df.plot.scatter(x='Duration', y='Calories', title='Duration vs Calories Scatter Plot', color='blue')\n",
        "\n",
        "# Show the plot\n",
        "plt.xlabel('Duration')\n",
        "plt.ylabel('Calories')\n",
        "plt.grid(True)\n",
        "plt.show()\n",
        "\n"
      ],
      "metadata": {
        "colab": {
          "base_uri": "https://localhost:8080/",
          "height": 684
        },
        "collapsed": true,
        "id": "mN_cZXfwMs2Y",
        "outputId": "c4085320-398f-4f1e-e210-d9c37e8375d6"
      },
      "execution_count": 9,
      "outputs": [
        {
          "output_type": "display_data",
          "data": {
            "text/plain": [
              "<IPython.core.display.HTML object>"
            ],
            "text/html": [
              "\n",
              "     <input type=\"file\" id=\"files-3c523d6d-d1fd-4fad-a2ed-f41b8ff07a9e\" name=\"files[]\" multiple disabled\n",
              "        style=\"border:none\" />\n",
              "     <output id=\"result-3c523d6d-d1fd-4fad-a2ed-f41b8ff07a9e\">\n",
              "      Upload widget is only available when the cell has been executed in the\n",
              "      current browser session. Please rerun this cell to enable.\n",
              "      </output>\n",
              "      <script>// Copyright 2017 Google LLC\n",
              "//\n",
              "// Licensed under the Apache License, Version 2.0 (the \"License\");\n",
              "// you may not use this file except in compliance with the License.\n",
              "// You may obtain a copy of the License at\n",
              "//\n",
              "//      http://www.apache.org/licenses/LICENSE-2.0\n",
              "//\n",
              "// Unless required by applicable law or agreed to in writing, software\n",
              "// distributed under the License is distributed on an \"AS IS\" BASIS,\n",
              "// WITHOUT WARRANTIES OR CONDITIONS OF ANY KIND, either express or implied.\n",
              "// See the License for the specific language governing permissions and\n",
              "// limitations under the License.\n",
              "\n",
              "/**\n",
              " * @fileoverview Helpers for google.colab Python module.\n",
              " */\n",
              "(function(scope) {\n",
              "function span(text, styleAttributes = {}) {\n",
              "  const element = document.createElement('span');\n",
              "  element.textContent = text;\n",
              "  for (const key of Object.keys(styleAttributes)) {\n",
              "    element.style[key] = styleAttributes[key];\n",
              "  }\n",
              "  return element;\n",
              "}\n",
              "\n",
              "// Max number of bytes which will be uploaded at a time.\n",
              "const MAX_PAYLOAD_SIZE = 100 * 1024;\n",
              "\n",
              "function _uploadFiles(inputId, outputId) {\n",
              "  const steps = uploadFilesStep(inputId, outputId);\n",
              "  const outputElement = document.getElementById(outputId);\n",
              "  // Cache steps on the outputElement to make it available for the next call\n",
              "  // to uploadFilesContinue from Python.\n",
              "  outputElement.steps = steps;\n",
              "\n",
              "  return _uploadFilesContinue(outputId);\n",
              "}\n",
              "\n",
              "// This is roughly an async generator (not supported in the browser yet),\n",
              "// where there are multiple asynchronous steps and the Python side is going\n",
              "// to poll for completion of each step.\n",
              "// This uses a Promise to block the python side on completion of each step,\n",
              "// then passes the result of the previous step as the input to the next step.\n",
              "function _uploadFilesContinue(outputId) {\n",
              "  const outputElement = document.getElementById(outputId);\n",
              "  const steps = outputElement.steps;\n",
              "\n",
              "  const next = steps.next(outputElement.lastPromiseValue);\n",
              "  return Promise.resolve(next.value.promise).then((value) => {\n",
              "    // Cache the last promise value to make it available to the next\n",
              "    // step of the generator.\n",
              "    outputElement.lastPromiseValue = value;\n",
              "    return next.value.response;\n",
              "  });\n",
              "}\n",
              "\n",
              "/**\n",
              " * Generator function which is called between each async step of the upload\n",
              " * process.\n",
              " * @param {string} inputId Element ID of the input file picker element.\n",
              " * @param {string} outputId Element ID of the output display.\n",
              " * @return {!Iterable<!Object>} Iterable of next steps.\n",
              " */\n",
              "function* uploadFilesStep(inputId, outputId) {\n",
              "  const inputElement = document.getElementById(inputId);\n",
              "  inputElement.disabled = false;\n",
              "\n",
              "  const outputElement = document.getElementById(outputId);\n",
              "  outputElement.innerHTML = '';\n",
              "\n",
              "  const pickedPromise = new Promise((resolve) => {\n",
              "    inputElement.addEventListener('change', (e) => {\n",
              "      resolve(e.target.files);\n",
              "    });\n",
              "  });\n",
              "\n",
              "  const cancel = document.createElement('button');\n",
              "  inputElement.parentElement.appendChild(cancel);\n",
              "  cancel.textContent = 'Cancel upload';\n",
              "  const cancelPromise = new Promise((resolve) => {\n",
              "    cancel.onclick = () => {\n",
              "      resolve(null);\n",
              "    };\n",
              "  });\n",
              "\n",
              "  // Wait for the user to pick the files.\n",
              "  const files = yield {\n",
              "    promise: Promise.race([pickedPromise, cancelPromise]),\n",
              "    response: {\n",
              "      action: 'starting',\n",
              "    }\n",
              "  };\n",
              "\n",
              "  cancel.remove();\n",
              "\n",
              "  // Disable the input element since further picks are not allowed.\n",
              "  inputElement.disabled = true;\n",
              "\n",
              "  if (!files) {\n",
              "    return {\n",
              "      response: {\n",
              "        action: 'complete',\n",
              "      }\n",
              "    };\n",
              "  }\n",
              "\n",
              "  for (const file of files) {\n",
              "    const li = document.createElement('li');\n",
              "    li.append(span(file.name, {fontWeight: 'bold'}));\n",
              "    li.append(span(\n",
              "        `(${file.type || 'n/a'}) - ${file.size} bytes, ` +\n",
              "        `last modified: ${\n",
              "            file.lastModifiedDate ? file.lastModifiedDate.toLocaleDateString() :\n",
              "                                    'n/a'} - `));\n",
              "    const percent = span('0% done');\n",
              "    li.appendChild(percent);\n",
              "\n",
              "    outputElement.appendChild(li);\n",
              "\n",
              "    const fileDataPromise = new Promise((resolve) => {\n",
              "      const reader = new FileReader();\n",
              "      reader.onload = (e) => {\n",
              "        resolve(e.target.result);\n",
              "      };\n",
              "      reader.readAsArrayBuffer(file);\n",
              "    });\n",
              "    // Wait for the data to be ready.\n",
              "    let fileData = yield {\n",
              "      promise: fileDataPromise,\n",
              "      response: {\n",
              "        action: 'continue',\n",
              "      }\n",
              "    };\n",
              "\n",
              "    // Use a chunked sending to avoid message size limits. See b/62115660.\n",
              "    let position = 0;\n",
              "    do {\n",
              "      const length = Math.min(fileData.byteLength - position, MAX_PAYLOAD_SIZE);\n",
              "      const chunk = new Uint8Array(fileData, position, length);\n",
              "      position += length;\n",
              "\n",
              "      const base64 = btoa(String.fromCharCode.apply(null, chunk));\n",
              "      yield {\n",
              "        response: {\n",
              "          action: 'append',\n",
              "          file: file.name,\n",
              "          data: base64,\n",
              "        },\n",
              "      };\n",
              "\n",
              "      let percentDone = fileData.byteLength === 0 ?\n",
              "          100 :\n",
              "          Math.round((position / fileData.byteLength) * 100);\n",
              "      percent.textContent = `${percentDone}% done`;\n",
              "\n",
              "    } while (position < fileData.byteLength);\n",
              "  }\n",
              "\n",
              "  // All done.\n",
              "  yield {\n",
              "    response: {\n",
              "      action: 'complete',\n",
              "    }\n",
              "  };\n",
              "}\n",
              "\n",
              "scope.google = scope.google || {};\n",
              "scope.google.colab = scope.google.colab || {};\n",
              "scope.google.colab._files = {\n",
              "  _uploadFiles,\n",
              "  _uploadFilesContinue,\n",
              "};\n",
              "})(self);\n",
              "</script> "
            ]
          },
          "metadata": {}
        },
        {
          "output_type": "stream",
          "name": "stdout",
          "text": [
            "Saving data.csv to data (1).csv\n",
            "Statistical Summary:\n",
            "         Duration       Pulse    Maxpulse     Calories\n",
            "count  169.000000  169.000000  169.000000   164.000000\n",
            "mean    63.846154  107.461538  134.047337   375.790244\n",
            "std     42.299949   14.510259   16.450434   266.379919\n",
            "min     15.000000   80.000000  100.000000    50.300000\n",
            "25%     45.000000  100.000000  124.000000   250.925000\n",
            "50%     60.000000  105.000000  131.000000   318.600000\n",
            "75%     60.000000  111.000000  141.000000   387.600000\n",
            "max    300.000000  159.000000  184.000000  1860.400000\n"
          ]
        },
        {
          "output_type": "display_data",
          "data": {
            "text/plain": [
              "<Figure size 640x480 with 1 Axes>"
            ],
            "image/png": "[encoded data removed]"
          },
          "metadata": {}
        }
      ]
    }
  ]
}